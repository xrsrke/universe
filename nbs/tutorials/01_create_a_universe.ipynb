{
 "cells": [
  {
   "cell_type": "markdown",
   "id": "117cdbd4-df2e-4fcb-9c22-9e9889ea121c",
   "metadata": {},
   "source": [
    "#### Tutorial: Create a universe"
   ]
  },
  {
   "cell_type": "code",
   "execution_count": null,
   "id": "ac2ee578-ce90-4bf6-8f42-8cf05409d14f",
   "metadata": {},
   "outputs": [],
   "source": []
  }
 ],
 "metadata": {
  "kernelspec": {
   "display_name": "Python 3 (ipykernel)",
   "language": "python",
   "name": "python3"
  }
 },
 "nbformat": 4,
 "nbformat_minor": 5
}
