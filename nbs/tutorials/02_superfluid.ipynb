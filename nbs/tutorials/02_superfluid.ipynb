{
 "cells": [
  {
   "cell_type": "markdown",
   "id": "dbae9056-970f-4aab-8723-70599a4200e1",
   "metadata": {},
   "source": [
    "### Tutorial: Create a superfluid element!!"
   ]
  },
  {
   "cell_type": "code",
   "execution_count": null,
   "id": "d205da3f-b0a9-4190-9486-53f6bb1c62b4",
   "metadata": {},
   "outputs": [],
   "source": []
  }
 ],
 "metadata": {
  "kernelspec": {
   "display_name": "Python 3 (ipykernel)",
   "language": "python",
   "name": "python3"
  }
 },
 "nbformat": 4,
 "nbformat_minor": 5
}
