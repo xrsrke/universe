{
 "cells": [
  {
   "cell_type": "code",
   "execution_count": null,
   "id": "8bebcb24-deb8-48f3-8917-69dea16501f8",
   "metadata": {},
   "outputs": [],
   "source": [
    "#| default_exp conservation"
   ]
  },
  {
   "cell_type": "code",
   "execution_count": null,
   "id": "c654b815-80c1-431e-a316-9dcc8ccd46bc",
   "metadata": {},
   "outputs": [],
   "source": [
    "#| hide\n",
    "from nbdev.showdoc import *"
   ]
  },
  {
   "cell_type": "code",
   "execution_count": null,
   "id": "e572b060-7075-4ddb-bbe9-9a040edd12c5",
   "metadata": {},
   "outputs": [],
   "source": [
    "#| hide\n",
    "import nbdev; nbdev.nbdev_export()"
   ]
  },
  {
   "cell_type": "code",
   "execution_count": null,
   "id": "84931d96-b7d4-4964-85e4-3cada562acec",
   "metadata": {},
   "outputs": [],
   "source": [
    "#| export\n",
    "from universe.core import *"
   ]
  },
  {
   "cell_type": "markdown",
   "id": "cab816ef-99c2-4c7a-874e-ed00b150e041",
   "metadata": {},
   "source": [
    "# Conservation\n",
    "\n",
    "> Fill in a module description here"
   ]
  },
  {
   "cell_type": "code",
   "execution_count": null,
   "id": "3069c8bb-dc31-4f9c-8d5f-a0a4b2379e24",
   "metadata": {},
   "outputs": [],
   "source": [
    "#| export\n",
    "class Conservation:\n",
    "    pass"
   ]
  },
  {
   "cell_type": "markdown",
   "id": "e7690cff-8d2f-454e-911c-3de960c8e41b",
   "metadata": {},
   "source": [
    "#### Energy Conservation"
   ]
  },
  {
   "cell_type": "markdown",
   "id": "7ac6deb4-a1c1-42d4-8a75-04c489d3790b",
   "metadata": {},
   "source": [
    "#### Linear Momentum"
   ]
  },
  {
   "cell_type": "markdown",
   "id": "a118d087-9bb1-40b9-afc1-20f60e4752f8",
   "metadata": {},
   "source": [
    "#### Angular Momentum"
   ]
  },
  {
   "cell_type": "markdown",
   "id": "11467af2-07e7-41bf-b066-adbd9c327b26",
   "metadata": {},
   "source": [
    "#### Spin Conservation"
   ]
  },
  {
   "cell_type": "code",
   "execution_count": null,
   "id": "813c9b2d-57ac-4dca-8037-7e0e8269da05",
   "metadata": {},
   "outputs": [],
   "source": [
    "#| export\n",
    "class Spin(Conservation):\n",
    "    pass\n",
    "    # so when two particles interact, the spin is conserve!"
   ]
  },
  {
   "cell_type": "markdown",
   "id": "072905d3-2f39-40ca-8fc8-a2d2d47b89c9",
   "metadata": {},
   "source": [
    "#### Pauli-Exclusion Principle"
   ]
  },
  {
   "cell_type": "markdown",
   "id": "5e78a4f3-38ba-46b1-89fa-31f6d8d6661e",
   "metadata": {},
   "source": [
    "Fermions follow `Pauli-Exclusion Principle`"
   ]
  },
  {
   "cell_type": "code",
   "execution_count": null,
   "id": "8d0ea34e-f57e-4176-9920-fce60cae05ad",
   "metadata": {},
   "outputs": [],
   "source": [
    "class PauliExclusionPrinciple(Conservation):\n",
    "    pass"
   ]
  },
  {
   "cell_type": "markdown",
   "id": "f260e182-511a-443b-adfa-42fee20c1771",
   "metadata": {},
   "source": [
    "#### Bose-Einstein Statistics"
   ]
  },
  {
   "cell_type": "markdown",
   "id": "29f393a7-d269-472d-ae37-b21417d45ca1",
   "metadata": {},
   "source": [
    "Bosons follow `Bose-Einstein Statistics` "
   ]
  },
  {
   "cell_type": "code",
   "execution_count": null,
   "id": "18fd210b-9d9c-46a5-901a-03d82ffa59c7",
   "metadata": {},
   "outputs": [],
   "source": [
    "class BoseEinsteinStatistics(Conservation):\n",
    "    pass"
   ]
  }
 ],
 "metadata": {
  "kernelspec": {
   "display_name": "Python 3 (ipykernel)",
   "language": "python",
   "name": "python3"
  },
  "language_info": {
   "codemirror_mode": {
    "name": "ipython",
    "version": 3
   },
   "file_extension": ".py",
   "mimetype": "text/x-python",
   "name": "python",
   "nbconvert_exporter": "python",
   "pygments_lexer": "ipython3",
   "version": "3.9.12"
  }
 },
 "nbformat": 4,
 "nbformat_minor": 5
}
