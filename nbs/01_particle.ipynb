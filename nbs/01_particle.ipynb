{
 "cells": [
  {
   "cell_type": "code",
   "execution_count": 4,
   "id": "3cccbec3-ebee-42ab-bef1-d293788a5b6a",
   "metadata": {},
   "outputs": [],
   "source": [
    "#| default_exp particle"
   ]
  },
  {
   "cell_type": "code",
   "execution_count": 5,
   "id": "28b1d948-6f1f-4299-b216-2707aee3c687",
   "metadata": {},
   "outputs": [],
   "source": [
    "#| hide\n",
    "from nbdev.showdoc import *"
   ]
  },
  {
   "cell_type": "code",
   "execution_count": 6,
   "id": "d8be68fd-8dd8-4186-87fa-00ed60a5a9e2",
   "metadata": {},
   "outputs": [],
   "source": [
    "#| hide\n",
    "import nbdev; nbdev.nbdev_export()"
   ]
  },
  {
   "cell_type": "markdown",
   "id": "b44d5b2b-fd86-43de-a4f8-0285603fb011",
   "metadata": {},
   "source": [
    "# Elementary Parcile\n",
    "\n",
    "> Matter at fundamental level, it's not made up of particle. But instead, it made up of field."
   ]
  },
  {
   "cell_type": "markdown",
   "id": "f8a70dd0-996f-459c-afbd-5c4e4bb38a51",
   "metadata": {},
   "source": [
    "But to understand the standar model, it's more convenience to use the language of particle."
   ]
  },
  {
   "cell_type": "markdown",
   "id": "73bc3121-98ea-4ecd-9271-4da19e31a1af",
   "metadata": {},
   "source": [
    "Fermions are matter particles.\n",
    "\n",
    "Bosons are force particles."
   ]
  },
  {
   "cell_type": "markdown",
   "id": "5b9e96f8-37cd-4b2f-b110-f45c2c75134e",
   "metadata": {},
   "source": [
    "##### Distinction between fermions and bosons"
   ]
  },
  {
   "cell_type": "markdown",
   "id": "c14d1ef4-9f38-4f2e-9098-e594a332d367",
   "metadata": {},
   "source": [
    "Lies in the quantum world. Particles that obey `Pauli Exclusion Principle`, they're Fermions. Otherwise, they're bosons."
   ]
  },
  {
   "cell_type": "markdown",
   "id": "1cf8b864-b24f-4d55-8938-c69460bf82eb",
   "metadata": {},
   "source": [
    "#### Everything can be reduced to just three matter particle (Fermions)\n",
    "- Electron\n",
    "- Up quark\n",
    "- Down quark\n",
    "- Electron neutrino\n",
    "\n",
    "Proton have: two up quarks and a down\n",
    "\n",
    "Neutron have: two down quarks and an up"
   ]
  },
  {
   "cell_type": "code",
   "execution_count": 7,
   "id": "17f61786-c637-4ccf-a03f-22ee14ea8cdf",
   "metadata": {},
   "outputs": [],
   "source": [
    "#| export\n",
    "class Particle:\n",
    "    \n",
    "    # every particle is either a fermion or a boson \n",
    "    PARTICLE_CLASSIFICATION = (\"fermion\", \"boson\")\n",
    "    \n",
    "    def __init__(self):\n",
    "        pass"
   ]
  },
  {
   "cell_type": "markdown",
   "id": "cb2d4a72-63cd-44a1-bac2-1b563fb8c052",
   "metadata": {},
   "source": [
    "### Fermion"
   ]
  },
  {
   "cell_type": "markdown",
   "id": "df1f640e-e6a7-451b-865f-8f49a3c5e846",
   "metadata": {},
   "source": [
    "Fermion made up all of particle in our universe."
   ]
  },
  {
   "cell_type": "code",
   "execution_count": 8,
   "id": "8f57d104-f956-4722-9cfd-bee6d456209a",
   "metadata": {},
   "outputs": [],
   "source": [
    "#| export\n",
    "class Fermion(Particle):\n",
    "    \n",
    "    #FERMION_CLASSIFICATION = (\"electron\", \"up_quark\", \"down_quark\", \"electron_neutrino\")\n",
    "    SPIN = 1/2\n",
    "    pass"
   ]
  },
  {
   "cell_type": "markdown",
   "id": "bd405f00-6936-4b88-85bd-7c8e6f5b245a",
   "metadata": {},
   "source": [
    "There're two categories of particle in `Fermion`:\n",
    "- Leptons\n",
    "- Quarks"
   ]
  },
  {
   "cell_type": "code",
   "execution_count": 9,
   "id": "356e7277-4e76-4d3f-bce7-3c359b9031ec",
   "metadata": {},
   "outputs": [],
   "source": [
    "#| export\n",
    "class Lepton(Fermion):\n",
    "    \n",
    "    LEPTON_CLASSIFICATION = (\n",
    "        \"electron\", \"muon\", \"tau\",\n",
    "        \"electron_neutrino\", \"muon_neutrino\", \"tau_neutrono\")\n",
    "    \n",
    "    pass"
   ]
  },
  {
   "cell_type": "code",
   "execution_count": 10,
   "id": "e861159b-9ab0-4912-8df8-cac249a0685e",
   "metadata": {},
   "outputs": [],
   "source": [
    "#| export\n",
    "class Quark(Fermion):\n",
    "    \n",
    "    QUARK_CLASSIFICATION = (\n",
    "        \"up\", \"charm\", \"top\",\n",
    "        \"down\", \"strange\", \"bottom\")\n",
    "    \n",
    "    pass"
   ]
  },
  {
   "cell_type": "markdown",
   "id": "52463238-45b6-4b0a-96bf-a277f4a69828",
   "metadata": {},
   "source": [
    "### Boson"
   ]
  },
  {
   "cell_type": "markdown",
   "id": "c554b82e-8c51-4877-86e8-8ceab76e3580",
   "metadata": {},
   "source": [
    "Boson mediate how those matter interact with each other."
   ]
  },
  {
   "cell_type": "code",
   "execution_count": 11,
   "id": "7ceb73d8-1b4f-4f76-9789-3db10e0b0f16",
   "metadata": {},
   "outputs": [],
   "source": [
    "#| export\n",
    "class Boson(Particle):\n",
    "    BOSON_CLASSIFICATION = ()\n",
    "    pass"
   ]
  },
  {
   "cell_type": "code",
   "execution_count": 12,
   "id": "a8c9f9e1-5ac6-4d0a-a75a-e6be3e4d823a",
   "metadata": {},
   "outputs": [],
   "source": [
    "#| export\n",
    "class GaugeBoson(Boson):\n",
    "    \n",
    "    GAUGE_BOSON_CLASSIFICATION = (\"gluon\", \"photon\", \"z_boson\", \"w_boson\")\n",
    "    SPIN = 1\n",
    "    \n",
    "    def spin(self):\n",
    "        return SPIN"
   ]
  },
  {
   "cell_type": "code",
   "execution_count": 13,
   "id": "334629df-15ac-48d4-bd62-a93af207a567",
   "metadata": {},
   "outputs": [],
   "source": [
    "#| export\n",
    "class ScalarBoson(Boson):\n",
    "    \n",
    "    SCALAR_BOSON_CLASSIFICATION = (\"higgs_boson\")\n",
    "    SPIN = 0\n",
    "\n",
    "    def __init__(self, name): # the name of the particle\n",
    "        if name not in SCALAR_BOSON_CLASSIFICATION:\n",
    "            raise ValueError(\"This particle isn't a part of Bosons\")\n",
    "        else:\n",
    "            self.name = name\n",
    "        \n",
    "    def spin(self):\n",
    "        \"\"\"Return the spin\"\"\"\n",
    "        return SPIN"
   ]
  },
  {
   "cell_type": "code",
   "execution_count": 14,
   "id": "adc8b1e7-b122-4ae7-b049-17b45fb7945c",
   "metadata": {},
   "outputs": [],
   "source": [
    "#| export\n",
    "class HiggsBoson(ScalarBoson):\n",
    "    pass"
   ]
  },
  {
   "cell_type": "code",
   "execution_count": null,
   "id": "40638b77-506d-4bea-b766-9172f9e9b5b9",
   "metadata": {},
   "outputs": [],
   "source": [
    "- Spin = 1 => the wave function behaves the same after 1 rotation\n",
    "- Spin = 1/2 => the wave function behaves the same after 2 rotations\n",
    "- Spin have to be conserve"
   ]
  },
  {
   "cell_type": "code",
   "execution_count": 16,
   "id": "ba2ad712-dda7-4d04-95bb-6b4401228203",
   "metadata": {},
   "outputs": [],
   "source": [
    "#| export\n",
    "class WaveFunction:\n",
    "    def behave(self):\n",
    "        # based on the spin of the particle\n",
    "        pass"
   ]
  },
  {
   "cell_type": "code",
   "execution_count": null,
   "id": "303bacd2-b937-4a79-8aa6-4f25f6d13f4c",
   "metadata": {},
   "outputs": [],
   "source": []
  }
 ],
 "metadata": {
  "kernelspec": {
   "display_name": "Python 3 (ipykernel)",
   "language": "python",
   "name": "python3"
  },
  "language_info": {
   "codemirror_mode": {
    "name": "ipython",
    "version": 3
   },
   "file_extension": ".py",
   "mimetype": "text/x-python",
   "name": "python",
   "nbconvert_exporter": "python",
   "pygments_lexer": "ipython3",
   "version": "3.9.12"
  }
 },
 "nbformat": 4,
 "nbformat_minor": 5
}
