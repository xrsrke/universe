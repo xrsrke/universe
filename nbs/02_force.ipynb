{
 "cells": [
  {
   "cell_type": "code",
   "execution_count": null,
   "id": "b2790c09-a3a5-43c3-bedc-490fdb516af1",
   "metadata": {},
   "outputs": [],
   "source": [
    "#| default_exp force"
   ]
  },
  {
   "cell_type": "code",
   "execution_count": null,
   "id": "5c6867ad-48f8-4342-b5cb-b5cfff38b081",
   "metadata": {},
   "outputs": [],
   "source": [
    "#| hide\n",
    "from nbdev.showdoc import *"
   ]
  },
  {
   "cell_type": "code",
   "execution_count": null,
   "id": "798dfb3f-4000-4e87-8eaf-61e6a162b85d",
   "metadata": {},
   "outputs": [],
   "source": [
    "#| hide\n",
    "import nbdev; nbdev.nbdev_export()"
   ]
  },
  {
   "cell_type": "markdown",
   "id": "baf50d47-a4a3-4c4c-9431-753e326c8343",
   "metadata": {},
   "source": [
    "# Force\n",
    "\n",
    "> Four fundamental forces of the universe"
   ]
  },
  {
   "cell_type": "code",
   "execution_count": null,
   "id": "770fe1ba-21e4-4b85-98e0-e605f05b5dd1",
   "metadata": {},
   "outputs": [],
   "source": [
    "#| export\n",
    "class Force:\n",
    "    FORCE_CLASSIFICATION = (\"elelectromagnetic\", \"strong\", \"weak\", \"gravity\")\n",
    "    pass"
   ]
  },
  {
   "cell_type": "markdown",
   "id": "cd8c35ea-c34f-4a08-a901-5241e7fa9fd3",
   "metadata": {},
   "source": [
    "### Electromagnetic Force"
   ]
  },
  {
   "cell_type": "code",
   "execution_count": null,
   "id": "b575e47e-7326-47c3-9136-3b618ceb8757",
   "metadata": {},
   "outputs": [],
   "source": [
    "#| export\n",
    "class ElectromagneticForce(Force):\n",
    "    pass"
   ]
  },
  {
   "cell_type": "code",
   "execution_count": null,
   "id": "2b58a533-0190-4ddc-a598-f1670275484e",
   "metadata": {},
   "outputs": [],
   "source": []
  }
 ],
 "metadata": {
  "kernelspec": {
   "display_name": "Python 3 (ipykernel)",
   "language": "python",
   "name": "python3"
  }
 },
 "nbformat": 4,
 "nbformat_minor": 5
}
